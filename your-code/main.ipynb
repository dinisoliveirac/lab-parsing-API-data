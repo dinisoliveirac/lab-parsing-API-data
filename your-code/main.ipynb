{
 "cells": [
  {
   "cell_type": "markdown",
   "metadata": {},
   "source": [
    "# Challenge: Promotions\n",
    "\n",
    "In this challenge, you'll develop codes to parse and analyze data returned from another API on Zalando such as [Promos homme (Men's Promotions)\n",
    "](https://www.zalando.fr/promo-homme/) or [Promos femme (Women's Promotions)](https://www.zalando.fr/promo-femme/). The workflow is almost the same as in the guided lesson but you'll work with different data."
   ]
  },
  {
   "cell_type": "markdown",
   "metadata": {},
   "source": [
    "## Obtaining the link\n",
    "\n",
    "Write your codes in the cell below to obtain the data from the API endpoint you choose. A recap of the workflow:\n",
    "\n",
    "1. Examine the webpages and choose one that you want to work with.\n",
    "\n",
    "1. Use Google Chrome's DevTools to inspect the XHR network requests. Find out the API endpoint that serves data to the webpage.\n",
    "\n",
    "1. Test the API endpoint in the browser to verify its data.\n",
    "\n",
    "1. Change the page number offset of the API URL to test if it's working."
   ]
  },
  {
   "cell_type": "code",
   "execution_count": 1,
   "metadata": {},
   "outputs": [],
   "source": [
    "import json\n",
    "import requests\n",
    "import pandas as pd\n",
    "from pandas.io.json import json_normalize"
   ]
  },
  {
   "cell_type": "code",
   "execution_count": 2,
   "metadata": {},
   "outputs": [],
   "source": [
    "# your code here\n",
    "\n",
    "url = 'https://www.zalando.fr/api/catalog/articles?categories=promo-femme&limit=84&offset=84&sort=popularity'"
   ]
  },
  {
   "cell_type": "markdown",
   "metadata": {},
   "source": [
    "## Reading the data\n",
    "\n",
    "In the next cell, use Python to obtain data from the API endpoint you chose in the previous step. Workflow:\n",
    "\n",
    "1. Import libraries.\n",
    "\n",
    "1. Define the initial API endpoint URL.\n",
    "\n",
    "1. Make request to obtain data of the 1st page. Flatten the data and store it in an empty object variable.\n",
    "\n",
    "1. Find out the total page count in the 1st page data.\n",
    "\n",
    "1. Use a FOR loop to make requests for the additional pages from 2 to page count. Append the data of each additional page to the flatterned data object.\n",
    "\n",
    "1. Print and review the data you obtained."
   ]
  },
  {
   "cell_type": "code",
   "execution_count": 11,
   "metadata": {},
   "outputs": [],
   "source": [
    "# your code here\n",
    "\n",
    "headers = {'user-agent':'Mozilla/5.0 (Macintosh; Intel Mac OS X 10_13_6) AppleWebKit/537.36 (KHTML, like Gecko) Chrome/79.0.3945.130 Safari/537.36'}\n",
    "\n",
    "response = requests.get(url, headers=headers)\n",
    "results = response.json()"
   ]
  },
  {
   "cell_type": "code",
   "execution_count": 4,
   "metadata": {},
   "outputs": [],
   "source": [
    "dataframe = json_normalize(results)\n",
    "\n",
    "dataframe = json_normalize(dataframe.articles[0])"
   ]
  },
  {
   "cell_type": "code",
   "execution_count": 5,
   "metadata": {},
   "outputs": [
    {
     "name": "stderr",
     "output_type": "stream",
     "text": [
      "/usr/local/lib/python3.7/site-packages/ipykernel_launcher.py:17: FutureWarning: Sorting because non-concatenation axis is not aligned. A future version\n",
      "of pandas will change to not sort by default.\n",
      "\n",
      "To accept the future behavior, pass 'sort=False'.\n",
      "\n",
      "To retain the current behavior and silence the warning, pass 'sort=True'.\n",
      "\n"
     ]
    }
   ],
   "source": [
    "# Get the total number of pages\n",
    "\n",
    "lst = []\n",
    "\n",
    "\n",
    "# range (using 10 instead of total page number to avoid long execution times)\n",
    "\n",
    "for i in range(15):\n",
    "    count = 84*i\n",
    "    urls = 'https://www.zalando.fr/api/catalog/articles?categories=promo-enfant&limit=84&offset='+str(count)+'&sort=sale'\n",
    "    response_all = requests.get(urls, headers =headers)\n",
    "    results_all = response_all.json()\n",
    "    flatten_data_all = json_normalize(results_all)\n",
    "    flatten_data_all = json_normalize(flatten_data_all.articles[0])\n",
    "    lst.append(flatten_data_all)\n",
    "\n",
    "dataframe = pd.concat(lst)\n",
    "\n",
    "dataframe.index = dataframe['sku']"
   ]
  },
  {
   "cell_type": "markdown",
   "metadata": {},
   "source": [
    "## Bonus\n",
    "\n",
    "Extract the following information from the data:\n",
    "\n",
    "* The trending brand.\n",
    "\n",
    "* The product(s) with the highest discount.\n",
    "\n",
    "* The sum of discounts of all goods (sum_discounted_prices divided by sum_original_prices)."
   ]
  },
  {
   "cell_type": "markdown",
   "metadata": {},
   "source": [
    "### The trending brand:\n"
   ]
  },
  {
   "cell_type": "code",
   "execution_count": 10,
   "metadata": {},
   "outputs": [
    {
     "data": {
      "text/plain": [
       "Nike Sportswear     98\n",
       "Nike Performance    47\n",
       "Lemon Beret         35\n",
       "adidas Originals    33\n",
       "s.Oliver            33\n",
       "                    ..\n",
       "Palladium            1\n",
       "Scotch Shrunk        1\n",
       "Boboli               1\n",
       "The New              1\n",
       "UGG                  1\n",
       "Name: brand_name, Length: 107, dtype: int64"
      ]
     },
     "execution_count": 10,
     "metadata": {},
     "output_type": "execute_result"
    }
   ],
   "source": [
    "dataframe['brand_name'].value_counts()"
   ]
  },
  {
   "cell_type": "markdown",
   "metadata": {},
   "source": [
    "### The product(s) with the highest discount:"
   ]
  },
  {
   "cell_type": "code",
   "execution_count": 7,
   "metadata": {},
   "outputs": [],
   "source": [
    "# The product(s) with the highest discount:\n",
    "\n",
    "import re\n",
    "\n",
    "def remove_euro(string):\n",
    "    \n",
    "    '''\n",
    "    string = consider only until the last number\n",
    "    reg = replace the comma for a dot\n",
    "    '''\n",
    "    \n",
    "    string = string[:-2]\n",
    "    reg = string.replace(\",\",\".\")\n",
    "    return reg\n",
    "\n",
    "# Apply the function to both price columns\n",
    "\n",
    "dataframe['price.original'] = dataframe['price.original'].apply(remove_euro).astype(float)            \n",
    "dataframe['price.promotional'] = dataframe['price.promotional'].apply(remove_euro).astype(float)            "
   ]
  },
  {
   "cell_type": "code",
   "execution_count": 8,
   "metadata": {},
   "outputs": [
    {
     "data": {
      "text/plain": [
       "sku\n",
       "RO543F01A-A11    72.00\n",
       "PO224L03D-K11    66.00\n",
       "PO224L03D-K11    66.00\n",
       "K1343F06L-K11    66.00\n",
       "QU124L020-K11    64.99\n",
       "                 ...  \n",
       "NL623J011-Q11     1.36\n",
       "NL623G08P-Q11     0.91\n",
       "N1243A113-Q11     0.80\n",
       "VA253I004-K12     0.80\n",
       "ES123G0JG-C11     0.09\n",
       "Name: total_discount, Length: 840, dtype: float64"
      ]
     },
     "execution_count": 8,
     "metadata": {},
     "output_type": "execute_result"
    }
   ],
   "source": [
    "# Create a total_discount column\n",
    "\n",
    "dataframe['total_discount'] = dataframe['price.original'] - dataframe['price.promotional']\n",
    "\n",
    "# Sorting values descending per product so we can find \n",
    "dataframe['total_discount'].sort_values(ascending=False)"
   ]
  },
  {
   "cell_type": "markdown",
   "metadata": {},
   "source": [
    "### The sum of discounts of all goods (sum_discounted_prices divided by sum_original_prices):"
   ]
  },
  {
   "cell_type": "code",
   "execution_count": 15,
   "metadata": {},
   "outputs": [
    {
     "data": {
      "text/plain": [
       "0.7252948058948033"
      ]
     },
     "execution_count": 15,
     "metadata": {},
     "output_type": "execute_result"
    }
   ],
   "source": [
    "# your code here\n",
    "\n",
    "sum_discounts = dataframe['price.promotional'].sum()\n",
    "sum_original_prices = dataframe['price.original'].sum()\n",
    "\n",
    "sum_discounts_all_goods = sum_discounts/sum_original_prices\n",
    "sum_discounts_all_goods"
   ]
  }
 ],
 "metadata": {
  "kernelspec": {
   "display_name": "Python 3",
   "language": "python",
   "name": "python3"
  },
  "language_info": {
   "codemirror_mode": {
    "name": "ipython",
    "version": 3
   },
   "file_extension": ".py",
   "mimetype": "text/x-python",
   "name": "python",
   "nbconvert_exporter": "python",
   "pygments_lexer": "ipython3",
   "version": "3.7.5"
  }
 },
 "nbformat": 4,
 "nbformat_minor": 2
}
